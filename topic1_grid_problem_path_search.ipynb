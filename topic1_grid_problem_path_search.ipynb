{
 "cells": [
  {
   "cell_type": "markdown",
   "metadata": {},
   "source": [
    "# Topic1. Grid Problem and Path Search\n",
    "\n",
    "If you got the point for problem definition in AIMA textbook, please run the block directly until section 1-3. The section 1-1 to 1-2 is the same as tutorial last week. \n",
    "\n",
    "## 1-1. Import python package"
   ]
  },
  {
   "cell_type": "code",
   "execution_count": 1,
   "metadata": {},
   "outputs": [],
   "source": [
    "%matplotlib inline\n",
    "import matplotlib.pyplot as plt\n",
    "import random\n",
    "import heapq\n",
    "import math\n",
    "import sys\n",
    "import numpy as np\n",
    "from collections import defaultdict, deque, Counter\n",
    "from itertools import combinations"
   ]
  },
  {
   "cell_type": "markdown",
   "metadata": {},
   "source": [
    "## 1-2. Problem abstract & State-space tree node & queue"
   ]
  },
  {
   "cell_type": "code",
   "execution_count": 2,
   "metadata": {},
   "outputs": [],
   "source": [
    "class Problem(object):\n",
    "    \"\"\"The abstract class for a formal problem. A new domain subclasses this,\n",
    "    overriding `actions` and `results`, and perhaps other methods.\n",
    "    Subclasses can add other keywords besides initial and goal.\n",
    "    The default heuristic is 0 and the default step cost is 1 for all states.\"\"\"\n",
    "\n",
    "    def __init__(self, initial=None, goal=None, **kwds): \n",
    "        self.__dict__.update(initial=initial, goal=goal, **kwds) \n",
    "    \n",
    "    \n",
    "    def actions(self, state):           raise NotImplementedError\n",
    "    def result(self, state, action):    raise NotImplementedError\n",
    "    def is_goal(self, state):           return state == self.goal\n",
    "    def step_cost(self, s, action, s1): return 1\n",
    "    def h(self, node):                  return 0\n",
    "    \n",
    "    def __str__(self):\n",
    "        return '{}({}, {})'.format(type(self).__name__, self.initial, self.goal)\n",
    "    \n",
    "\n",
    "class Node:\n",
    "    \"A Node in a search tree.\"\n",
    "    def __init__(self, state, parent=None, action=None, path_cost=0):\n",
    "        self.__dict__.update(state=state, parent=parent, action=action, path_cost=path_cost)\n",
    "\n",
    "    def __repr__(self): return '<{}>'.format(self.state)\n",
    "    def __len__(self): return 0 if self.parent is None else (1 + len(self.parent))\n",
    "    def __lt__(self, other): return self.path_cost < other.path_cost\n",
    "    \n",
    "    \n",
    "failure = Node('failure', path_cost=float('inf')) # Indicates an algorithm couldn't find a solution.\n",
    "cutoff  = Node('cutoff',  path_cost=float('inf')) # Indicates iterative deepening search was cut off.\n",
    "    \n",
    "    \n",
    "def expand(problem, node):\n",
    "    \"Expand a node, generating the children nodes.\"\n",
    "    s = node.state\n",
    "    for action in problem.actions(s):\n",
    "        s1 = problem.result(s, action)\n",
    "        cost = node.path_cost + problem.step_cost(s, action, s1)\n",
    "        yield Node(s1, node, action, cost)\n",
    "        \n",
    "\n",
    "def path_actions(node):\n",
    "    \"The sequence of actions to get to this node.\"\n",
    "    return [] if node.parent is None else path_actions(node.parent) + [node.action]\n",
    "\n",
    "\n",
    "def path_states(node):\n",
    "    \"The sequence of states to get to this node.\"\n",
    "    if node in (cutoff, failure, None): return []\n",
    "    return path_states(node.parent) + [node.state]"
   ]
  },
  {
   "cell_type": "markdown",
   "metadata": {},
   "source": [
    "<font color=\"red\">\n",
    "    \n",
    "## 1-3. Grid Problem\n",
    "\n",
    "</font>\n",
    "\n",
    "We define a `GridProblem` class here to present a problem has an initial point, a goal point, obstacles and other limitations. Assume a robot is locate on initial point, you need to use search method to plan a path and avoid robot bump into the wall."
   ]
  },
  {
   "cell_type": "code",
   "execution_count": 3,
   "metadata": {},
   "outputs": [],
   "source": [
    "class GridProblem(Problem):\n",
    "    \"\"\"Finding a path on a 2D grid with obstacles. Obstacles are (x, y) cells.\"\"\"\n",
    "    \n",
    "    def __init__(self, initial=(0.5, 0.5), goal=(1.5, 2.5), obstacles=(),\n",
    "                 grid_size=0.2, veh_size=(0.2, 0.2), MAP_RANGE=(150, 60), **kwds):\n",
    "        Problem.__init__(self, initial=initial, goal=goal, obstacles=set(obstacles) - {initial, goal},\n",
    "                         grid_size=grid_size, veh_size=veh_size, MAP_RANGE=MAP_RANGE, **kwds)\n",
    "        \n",
    "        # Safety check for goal point setting\n",
    "        if not self.is_state_safe(self.goal):\n",
    "            raise ValueError('Initial point:{} or goal:{} is out of range {}~{} m'.format( \\\n",
    "                                self.initial, self.goal, self.veh_size, \\\n",
    "                                (self.MAP_RANGE[0]-self.veh_size[0], self.MAP_RANGE[1]-self.veh_size[1])))\n",
    "        \n",
    "        # Define the directions that robot can move to\n",
    "        self.directions = [(0, -1), (-1, 0), (1,  0), (0, +1)]\n",
    "        \n",
    "        # Define an empty set for grid map, the concept is the same as sparse matrix\n",
    "        self.gridmap = set()\n",
    "        \n",
    "        # Method for converting real map location to a grid map, there is a tricky problem \n",
    "        self.to_grid = lambda state: (int(state[0]*10/self.grid_size/10), int(state[1]*10/self.grid_size/10))\n",
    "        \n",
    "        self.generate_gridmap()   \n",
    "        \n",
    "        \n",
    "    def is_state_safe(self, state):\n",
    "        if state[0] < self.veh_size[0] or state[0] > self.MAP_RANGE[0]-self.veh_size[0] or \\\n",
    "            state[1] < self.veh_size[1] or state[1] > self.MAP_RANGE[1]-self.veh_size[1]:\n",
    "            return False\n",
    "        else:    return True\n",
    "    \n",
    "    \n",
    "    def generate_gridmap(self):\n",
    "        for p in self.obstacles:\n",
    "            self.gridmap.add(self.to_grid(p))\n",
    "        \n",
    "        # Remove initial point and goal point from grid map\n",
    "        self.gridmap = self.gridmap - {self.to_grid(self.initial), self.to_grid(self.goal)}\n",
    "            \n",
    "                \n",
    "    def result(self, state, action): \n",
    "        \"Both states and actions are represented by (x, y) pairs.\"\n",
    "        result_grid_loc = self.to_grid(state)\n",
    "        return action if action not in self.gridmap else state\n",
    "    \n",
    "    \n",
    "    def actions(self, state):\n",
    "        \"\"\"You can move one cell in any of `directions` to a non-obstacle cell.\"\"\"\n",
    "        x, y = state\n",
    "        grid_p = self.to_grid(state)\n",
    "        action_list = []\n",
    "        for (dx, dy) in self.directions:\n",
    "            next_p = (grid_p[0]+dx, grid_p[1]+dy)\n",
    "            if next_p not in self.gridmap:\n",
    "                action_list.append((round(next_p[0]*self.grid_size + 0.5*self.grid_size, 3), \\\n",
    "                                    round(next_p[1]*self.grid_size + 0.5*self.grid_size, 3)))\n",
    "        return action_list\n",
    "    \n",
    "    \n",
    "    def is_goal(self, state):\n",
    "        return self.to_grid(state) == self.to_grid(self.goal)\n",
    "\n",
    "    \n",
    "    def step_cost(self, s, action, s1): return straight_line_distance(s, s1)\n",
    "    \n",
    "    \n",
    "    def h(self, node): return straight_line_distance(node.state, self.goal)\n",
    "                  "
   ]
  },
  {
   "cell_type": "markdown",
   "metadata": {},
   "source": [
    "## 1-4. Obstacle generator\n",
    "\n",
    "This section is prepared for obstacle generator. Note that we use `yield` to create iterable variable, then use `set()` to include all elements in the grid problem. If you want to know more about `yield`, please ask TA or visit [Stackflew](https://stackoverflow.com/questions/231767/what-does-the-yield-keyword-do) or [Chinese intro](https://liam.page/2017/06/30/understanding-yield-in-python/)."
   ]
  },
  {
   "cell_type": "code",
   "execution_count": 4,
   "metadata": {},
   "outputs": [],
   "source": [
    "def transpose(matrix): return list(zip(*matrix))\n",
    "\n",
    "\n",
    "# The following can be used to create obstacles:\n",
    "def straight_line_distance(point1, point2):\n",
    "    \"Straight-line distance between two 2D points.\"\n",
    "    return abs(complex(*point1) - complex(*point2))\n",
    "    \n",
    "\n",
    "def random_lines(X=np.arange(0, 150, 0.1), Y=np.arange(10, 70, 0.1), N=100, lengths=np.arange(6, 12, 0.1), dirs=((0, 1), (1, 0))):\n",
    "    \"\"\"Yield the cells in N random lines of the given lengths.\"\"\"\n",
    "    for obj_line in add_block(x=0, y=0, len_x=150, len_y=80):\n",
    "        yield obj_line\n",
    "        \n",
    "    for obj_line in add_block(x=0, y=0, len_x=1.6, len_y=2.8):\n",
    "        yield obj_line\n",
    "    \n",
    "    for _ in range(N):\n",
    "        x, y = random.choice(X), random.choice(Y)\n",
    "        dx, dy = random.choice(dirs)\n",
    "        for obj_line in line(x, y, dx, dy, random.choice(lengths)):\n",
    "            yield obj_line            \n",
    "\n",
    "def random_blocks(X=np.arange(0, 150, 0.1), Y=np.arange(10, 70, 0.1), N=40, lengths=np.arange(4, 8, 0.1), dirs=((0, 1), (1, 0))):\n",
    "    \"\"\"A line of `length` cells starting at (x, y) and going in (dx, dy) direction.\"\"\"\n",
    "    for obj_line in add_block(x=0, y=0, len_x=150, len_y=80):\n",
    "        yield obj_line\n",
    "    \n",
    "    for _ in range(N):\n",
    "        x1, y1 = random.choice(X), random.choice(Y)\n",
    "        dx, dy = random.choice(lengths), random.choice(lengths)\n",
    "        \n",
    "        for obj_line in line(x1, y1, 1, 0, dx+1):\n",
    "            yield obj_line\n",
    "        for obj_line in line(x1, y1+dy, 1, 0, dx+1):\n",
    "            yield obj_line\n",
    "        for obj_line in line(x1, y1, 0, 1, dy):\n",
    "            yield obj_line\n",
    "        for obj_line in line(x1+dx, y1, 0, 1, dy):\n",
    "            yield obj_line\n",
    "            \n",
    "def line(x, y, dx, dy, length):\n",
    "    \"\"\"A line of `length` cells starting at (x, y) and going in (dx, dy) direction.\"\"\"\n",
    "    return {(x + i * dx, y + i * dy) for i in np.arange(0, length*1.001, 0.01)}\n",
    "\n",
    "def add_block(x, y, len_x, len_y):\n",
    "    for obj_line in line(x, y, 1, 0, len_x):\n",
    "        yield obj_line\n",
    "    for obj_line in line(x, y+len_y, 1, 0, len_x):\n",
    "        yield obj_line\n",
    "    for obj_line in line(x, y, 0, 1, len_y):\n",
    "        yield obj_line\n",
    "    for obj_line in line(x+len_x, y, 0, 1, len_y):\n",
    "        yield obj_line\n",
    "        "
   ]
  },
  {
   "cell_type": "code",
   "execution_count": 5,
   "metadata": {},
   "outputs": [
    {
     "data": {
      "image/png": "[encoded data removed]",
      "text/plain": [
       "<Figure size 864x864 with 2 Axes>"
      ]
     },
     "metadata": {
      "needs_background": "light"
     },
     "output_type": "display_data"
    }
   ],
   "source": [
    "# Difference between real map and grid map\n",
    "gp1 = GridProblem(grid_size=2, obstacles=random_lines())\n",
    "\n",
    "plt.figure(figsize=(12, 12))\n",
    "plt.subplot(211)\n",
    "plt.title('Real map')\n",
    "obs_list = transpose(list(gp1.obstacles))\n",
    "plt.scatter(obs_list[0], obs_list[1], marker='s', color='darkgrey')\n",
    "\n",
    "plt.subplot(212)\n",
    "plt.title('Grid map')\n",
    "grid_list = transpose(list(gp1.gridmap))\n",
    "plt.scatter(grid_list[0], grid_list[1], marker='s', color='darkgrey')\n",
    "plt.show()"
   ]
  },
  {
   "cell_type": "markdown",
   "metadata": {},
   "source": [
    "<font color=\"red\">\n",
    "    \n",
    "## 1-5. Node storage and Search methods\n",
    "\n",
    "</font>\n",
    "\n",
    "This section declare classic search algorithms to solve the problem defined above. Noted that we made a change in the code. `reached` variable need to be changed to global varible for storing the process of searching."
   ]
  },
  {
   "cell_type": "code",
   "execution_count": 6,
   "metadata": {},
   "outputs": [],
   "source": [
    "FIFOQueue = deque\n",
    "\n",
    "LIFOQueue = list\n",
    "\n",
    "class PriorityQueue:\n",
    "    \"\"\"A queue in which the item with minimum f(item) is always popped first.\"\"\"\n",
    "\n",
    "    def __init__(self, items=(), key=lambda x: x): \n",
    "        self.key = key\n",
    "        self.items = [] # a heap of (score, item) pairs\n",
    "        for item in items:\n",
    "            self.add(item)\n",
    "         \n",
    "    def add(self, item):\n",
    "        \"\"\"Add item to the queuez.\"\"\"\n",
    "        pair = (self.key(item), item)\n",
    "        heapq.heappush(self.items, pair)\n",
    "\n",
    "    def pop(self):\n",
    "        \"\"\"Pop and return the item with min f(item) value.\"\"\"\n",
    "        return heapq.heappop(self.items)[1]\n",
    "    \n",
    "    def top(self): return self.items[0][1]\n",
    "\n",
    "    def __len__(self): return len(self.items)"
   ]
  },
  {
   "cell_type": "code",
   "execution_count": 7,
   "metadata": {},
   "outputs": [],
   "source": [
    "def breadth_first_search(problem):\n",
    "    \"Search shallowest nodes in the search tree first.\"\n",
    "    frontier = FIFOQueue([Node(problem.initial)])\n",
    "    global reached # <<<<<<<<<<< Only change here\n",
    "    reached = set()\n",
    "    while frontier:\n",
    "        node = frontier.pop()\n",
    "        if problem.is_goal(node.state):\n",
    "            return node\n",
    "        for child in expand(problem, node):\n",
    "            s = child.state\n",
    "            if s not in reached:\n",
    "                reached.add(s)\n",
    "                frontier.appendleft(child)\n",
    "    return failure"
   ]
  },
  {
   "cell_type": "markdown",
   "metadata": {},
   "source": [
    "### Best-first search\n",
    "\n",
    "Best-first search with various f(n) functions gives us different search algorithms. Note that A* can be given a heuristic function h, providing additional information for finding an approximate solution. but if h is not supplied they use the problem's default h function.\n",
    "\n",
    "**THE MAIN MISSION TODAY**  is to difine a custom search algrithm to solve grid problem. You can actually expect the path result according to what information you provided. For example, `uniform_cost_search` cares more about `path_cost` that means you may pay lower cost (designed by yourself) from A point to B point."
   ]
  },
  {
   "cell_type": "code",
   "execution_count": 8,
   "metadata": {},
   "outputs": [],
   "source": [
    "def best_first_search(problem, f):\n",
    "    \"Search nodes with minimum f(node) value first; make `reached` global.\"\n",
    "    global reached # <<<<<<<<<<< Only change here\n",
    "    frontier = PriorityQueue([Node(problem.initial)], key=f)\n",
    "    reached = {}\n",
    "    while len(frontier) != 0:\n",
    "        node = frontier.pop()\n",
    "        if problem.is_goal(node.state):\n",
    "            return node\n",
    "        for child in expand(problem, node):\n",
    "            s = child.state\n",
    "            if (s not in reached) or (child.path_cost < reached[s].path_cost):\n",
    "                reached[s] = child\n",
    "                frontier.add(child)\n",
    "    return failure\n",
    "\n",
    "# It is also famous as Dijkstra's algorithm\n",
    "def uniform_cost_search(problem):\n",
    "    \"Search nodes with minimum path cost first.\"\n",
    "    return best_first_search(problem, f=lambda node: node.path_cost)\n",
    "\n",
    "\n",
    "def custom_search(problem):\n",
    "    global gp_global\n",
    "    \n",
    "    if problem != None: gp_global = problem\n",
    "        \n",
    "    \"\"\"Search nodes with minimum f(node), you need to define a f(n) by some attributes from node\"\"\"\n",
    "    return best_first_search(problem, f=custom_func)\n",
    "\n",
    "def custom_func(node):\n",
    "    global gp_global\n",
    "    '''\n",
    "    You can return any infomation you want to provide\n",
    "    \n",
    "    Hint:\n",
    "    if you want to get heuristic value on specific node --> gp_global.h(node)\n",
    "    if you want to get action_list on specific state    --> gp_global.actions(node.state)\n",
    "    if you want to get previous state (need NoneValue check) --> node.parent.state\n",
    "    if you want to get current x,y --> (x,y) = node.state\n",
    "    if you want to current direction and previous direction \n",
    "        \n",
    "    -->if node.parent != None and node.parent.parent != None:\n",
    "        dir1 = tuple(np.subtract(node.parent.state, node.state))\n",
    "        dir2 = tuple(np.subtract(node.parent.parent.state, node.parent.state))\n",
    "        print(dir1, dir2)\n",
    "    \n",
    "    '''\n",
    "\n",
    "    return node.path_cost  "
   ]
  },
  {
   "cell_type": "markdown",
   "metadata": {},
   "source": [
    "## 1-6. Ploting function\n",
    "\n",
    "Here we declare a ploting function to visialize problem and test some search algorithm. you can see difference of them."
   ]
  },
  {
   "cell_type": "code",
   "execution_count": 9,
   "metadata": {},
   "outputs": [],
   "source": [
    "def plot_grid_problem(grid_problem, solution, reached=(), title='Search'):\n",
    "    \"Use matplotlib to plot the grid, obstacles, solution, and reached.\"\n",
    "    plt.figure(figsize=(15, 6))\n",
    "    plt.axis('off'); plt.axis('equal')\n",
    "    \n",
    "    # plot initial position and goal\n",
    "    start = grid_problem.to_grid(grid_problem.initial)\n",
    "    goal = grid_problem.to_grid(grid_problem.goal)\n",
    "    plt.scatter(start[0], start[1], 11**2, marker='D', c='green')\n",
    "    plt.scatter(goal[0], goal[1], 10**2, marker='D', c='red')\n",
    "    plt.legend(['current_loc', 'goal_loc'])\n",
    "    \n",
    "    # plot obstacle\n",
    "    obs_list = transpose(list(grid_problem.gridmap))\n",
    "    if len(obs_list) != 0:\n",
    "        plt.scatter(obs_list[0], obs_list[1], marker='s', color='darkgrey')\n",
    "    \n",
    "    # plot reached path\n",
    "    reached_list = transpose([grid_problem.to_grid(point) for point in reached])\n",
    "    if len(reached_list) != 0:\n",
    "        plt.scatter(reached_list[0], reached_list[1], 1**2, marker='.', c='blue')\n",
    "    \n",
    "    # plot solution path\n",
    "    traj_list = transpose([grid_problem.to_grid(point) for point in path_states(solution)])\n",
    "    if len(traj_list) != 0:\n",
    "        plt.scatter(traj_list[0], traj_list[1], marker='s', c='black')\n",
    "\n",
    "    plt.show()\n",
    "    print('{} {} search: {:.1f} path cost, {:,d} states reached'\n",
    "          .format(' ' * 30, title, solution.path_cost, len(reached)))"
   ]
  },
  {
   "cell_type": "code",
   "execution_count": 10,
   "metadata": {
    "scrolled": true
   },
   "outputs": [
    {
     "data": {
      "image/png": "[encoded data removed]",
      "text/plain": [
       "<Figure size 1080x432 with 1 Axes>"
      ]
     },
     "metadata": {
      "needs_background": "light"
     },
     "output_type": "display_data"
    },
    {
     "name": "stdout",
     "output_type": "stream",
     "text": [
      "                               Breadth first search: 217.4 path cost, 2,055 states reached\n"
     ]
    },
    {
     "data": {
      "image/png": "[encoded data removed]",
      "text/plain": [
       "<Figure size 1080x432 with 1 Axes>"
      ]
     },
     "metadata": {
      "needs_background": "light"
     },
     "output_type": "display_data"
    },
    {
     "name": "stdout",
     "output_type": "stream",
     "text": [
      "                               Dijkstra (Uniform cost) search: 217.4 path cost, 2,058 states reached\n"
     ]
    },
    {
     "data": {
      "image/png": "[encoded data removed]",
      "text/plain": [
       "<Figure size 1080x432 with 1 Axes>"
      ]
     },
     "metadata": {
      "needs_background": "light"
     },
     "output_type": "display_data"
    },
    {
     "name": "stdout",
     "output_type": "stream",
     "text": [
      "                               Custom algorithm search: 217.4 path cost, 2,058 states reached\n"
     ]
    }
   ],
   "source": [
    "# Test algorithms\n",
    "\n",
    "gp1 = GridProblem(initial=(8, 20), goal=(140, 30), grid_size=2, obstacles=random_blocks())\n",
    "sol1 = breadth_first_search(gp1)\n",
    "plot_grid_problem(gp1, sol1, reached, title='Breadth first')\n",
    "\n",
    "sol2 = uniform_cost_search(gp1)\n",
    "plot_grid_problem(gp1, sol2, reached, title='Dijkstra (Uniform cost)')\n",
    "\n",
    "sol3 = custom_search(gp1)\n",
    "plot_grid_problem(gp1, sol3, reached, title='Custom algorithm')"
   ]
  }
 ],
 "metadata": {
  "kernelspec": {
   "display_name": "Python 2",
   "language": "python",
   "name": "python2"
  },
  "language_info": {
   "codemirror_mode": {
    "name": "ipython",
    "version": 2
   },
   "file_extension": ".py",
   "mimetype": "text/x-python",
   "name": "python",
   "nbconvert_exporter": "python",
   "pygments_lexer": "ipython2",
   "version": "2.7.12"
  }
 },
 "nbformat": 4,
 "nbformat_minor": 2
}
