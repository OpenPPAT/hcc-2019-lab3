{
 "cells": [
  {
   "cell_type": "markdown",
   "metadata": {},
   "source": [
    "# Topic1. A* path planning\n",
    "\n",
    "If you got the point for problem definition in AIMA textbook, please execute and run the block until section 1-4\n",
    "\n",
    "## 1-1. Import python package"
   ]
  },
  {
   "cell_type": "code",
   "execution_count": 2,
   "metadata": {},
   "outputs": [],
   "source": [
    "%matplotlib inline\n",
    "import matplotlib.pyplot as plt\n",
    "import random\n",
    "import heapq\n",
    "import math\n",
    "import sys\n",
    "import numpy as np\n",
    "from collections import defaultdict, deque, Counter\n",
    "from itertools import combinations"
   ]
  },
  {
   "cell_type": "markdown",
   "metadata": {},
   "source": [
    "## 1-2. Problem abstract & State-space tree node & queue"
   ]
  },
  {
   "cell_type": "code",
   "execution_count": 3,
   "metadata": {},
   "outputs": [],
   "source": [
    "class Problem(object):\n",
    "    \"\"\"The abstract class for a formal problem. A new domain subclasses this,\n",
    "    overriding `actions` and `results`, and perhaps other methods.\n",
    "    Subclasses can add other keywords besides initial and goal.\n",
    "    The default heuristic is 0 and the default step cost is 1 for all states.\"\"\"\n",
    "\n",
    "    def __init__(self, initial=None, goal=None, **kwds): \n",
    "        self.__dict__.update(initial=initial, goal=goal, **kwds) \n",
    "    \n",
    "    \n",
    "    def actions(self, state):           raise NotImplementedError\n",
    "    def result(self, state, action):    raise NotImplementedError\n",
    "    def is_goal(self, state):           return state == self.goal\n",
    "    def step_cost(self, s, action, s1): return 1\n",
    "    def h(self, node):                  return 0\n",
    "    \n",
    "    def __str__(self):\n",
    "        return '{}({}, {})'.format(type(self).__name__, self.initial, self.goal)\n",
    "    \n",
    "\n",
    "class Node:\n",
    "    \"A Node in a search tree.\"\n",
    "    def __init__(self, state, parent=None, action=None, path_cost=0):\n",
    "        self.__dict__.update(state=state, parent=parent, action=action, path_cost=path_cost)\n",
    "\n",
    "    def __repr__(self): return '<{}>'.format(self.state)\n",
    "    def __len__(self): return 0 if self.parent is None else (1 + len(self.parent))\n",
    "    def __lt__(self, other): return self.path_cost < other.path_cost\n",
    "    \n",
    "    \n",
    "failure = Node('failure', path_cost=float('inf')) # Indicates an algorithm couldn't find a solution.\n",
    "cutoff  = Node('cutoff',  path_cost=float('inf')) # Indicates iterative deepening search was cut off.\n",
    "    \n",
    "    \n",
    "def expand(problem, node):\n",
    "    \"Expand a node, generating the children nodes.\"\n",
    "    s = node.state\n",
    "    for action in problem.actions(s):\n",
    "        s1 = problem.result(s, action)\n",
    "        cost = node.path_cost + problem.step_cost(s, action, s1)\n",
    "        yield Node(s1, node, action, cost)\n",
    "        \n",
    "\n",
    "def path_actions(node):\n",
    "    \"The sequence of actions to get to this node.\"\n",
    "    return [] if node.parent is None else path_actions(node.parent) + [node.action]\n",
    "\n",
    "\n",
    "def path_states(node):\n",
    "    \"The sequence of states to get to this node.\"\n",
    "    if node in (cutoff, failure, None): return []\n",
    "    return path_states(node.parent) + [node.state]"
   ]
  },
  {
   "cell_type": "code",
   "execution_count": 4,
   "metadata": {},
   "outputs": [],
   "source": [
    "FIFOQueue = deque\n",
    "\n",
    "LIFOQueue = list\n",
    "\n",
    "class PriorityQueue:\n",
    "    \"\"\"A queue in which the item with minimum f(item) is always popped first.\"\"\"\n",
    "\n",
    "    def __init__(self, items=(), key=lambda x: x): \n",
    "        self.key = key\n",
    "        self.items = [] # a heap of (score, item) pairs\n",
    "        for item in items:\n",
    "            self.add(item)\n",
    "         \n",
    "    def add(self, item):\n",
    "        \"\"\"Add item to the queuez.\"\"\"\n",
    "        pair = (self.key(item), item)\n",
    "        heapq.heappush(self.items, pair)\n",
    "\n",
    "    def pop(self):\n",
    "        \"\"\"Pop and return the item with min f(item) value.\"\"\"\n",
    "        return heapq.heappop(self.items)[1]\n",
    "    \n",
    "    def top(self): return self.items[0][1]\n",
    "\n",
    "    def __len__(self): return len(self.items)"
   ]
  },
  {
   "cell_type": "markdown",
   "metadata": {},
   "source": [
    "## 1-3. Search methods"
   ]
  },
  {
   "cell_type": "code",
   "execution_count": 135,
   "metadata": {},
   "outputs": [],
   "source": [
    "def breadth_first_search(problem):\n",
    "    \"Search shallowest nodes in the search tree first.\"\n",
    "    frontier = FIFOQueue([Node(problem.initial)])\n",
    "    reached = set()\n",
    "    while frontier:\n",
    "        node = frontier.pop()\n",
    "        if problem.is_goal(node.state):\n",
    "            return node\n",
    "        for child in expand(problem, node):\n",
    "            s = child.state\n",
    "            if s not in reached:\n",
    "                reached.add(s)\n",
    "                frontier.appendleft(child)\n",
    "    return failure"
   ]
  },
  {
   "cell_type": "code",
   "execution_count": 136,
   "metadata": {},
   "outputs": [],
   "source": [
    "def best_first_search(problem, f):\n",
    "    \"Search nodes with minimum f(node) value first; make `reached` global.\"\n",
    "    global reached # <<<<<<<<<<< Only change here\n",
    "    frontier = PriorityQueue([Node(problem.initial)], key=f)\n",
    "    reached = {}\n",
    "    while len(frontier) != 0:\n",
    "        node = frontier.pop()\n",
    "        if problem.is_goal(node.state):\n",
    "            return node\n",
    "        for child in expand(problem, node):\n",
    "            s = child.state\n",
    "            if (s not in reached) or (child.path_cost < reached[s].path_cost):\n",
    "                reached[s] = child\n",
    "                frontier.add(child)\n",
    "    return failure\n",
    "\n",
    "# It is also popular to Dijkstra's algorithm\n",
    "def uniform_cost_search(problem):\n",
    "    \"Search nodes with minimum  path cost first.\"\n",
    "    return best_first_search(problem, f=lambda node: node.path_cost)\n",
    "\n",
    "\n",
    "def astar_search(problem, h=None):\n",
    "    \"\"\"Search nodes with minimum f(n) = g(n) + h(n).\"\"\"\n",
    "    h = h or problem.h\n",
    "    return best_first_search(problem, f=lambda node: node.path_cost + h(node))\n",
    "\n",
    "\n",
    "def weighted_astar_search(problem, weight=1.4, h=None):\n",
    "    \"\"\"Search nodes with minimum f(n) = g(n) + h(n).\"\"\"\n",
    "    h = h or problem.h\n",
    "    return best_first_search(problem, f=lambda node: node.path_cost + weight * h(node))\n",
    "\n",
    "def greedy_best_first_search(problem, h=None):\n",
    "    \"\"\"Search nodes with minimum h(n).\"\"\"\n",
    "    h = h or problem.h\n",
    "    return best_first_search(problem, f=h)"
   ]
  },
  {
   "cell_type": "markdown",
   "metadata": {},
   "source": [
    "## 1-4. Grid Problem"
   ]
  },
  {
   "cell_type": "code",
   "execution_count": 137,
   "metadata": {},
   "outputs": [],
   "source": [
    "class GridProblem(Problem):\n",
    "    \"\"\"Finding a path on a 2D grid with obstacles. Obstacles are (x, y) cells.\"\"\"\n",
    "    \n",
    "    def __init__(self, initial=(1.0, 1.0), goal=(1.7, 2.8), obstacles=(),\n",
    "                 grid_size=0.1, veh_size=(0.2, 0.2), MAX_X=1.8, MAX_Y=3.0, **kwds):\n",
    "        \n",
    "        Problem.__init__(self, initial=initial, goal=goal, obstacles=set(obstacles) - {initial, goal},\n",
    "                         grid_size=grid_size, veh_size=veh_size, MAX_X=MAX_X, MAX_Y=MAX_Y, **kwds)\n",
    "        \n",
    "        self.directions = [(-1, -1), (0, -1), (1, -1),\n",
    "                        (-1, 0),           (1,  0),\n",
    "                        (-1, +1), (0, +1), (1, +1)]\n",
    "        \n",
    "        self.gridmap = set()\n",
    "        self.to_grid = lambda state: (int(state[0]*10/self.grid_size/10), int(state[1]*10/self.grid_size/10))\n",
    "        self.generate_gridmap()\n",
    "        \n",
    "    def generate_gridmap(self):\n",
    "        for p in self.obstacles:\n",
    "            self.gridmap.add(self.to_grid(p))\n",
    "            \n",
    "    def step_cost(self, s, action, s1): return straight_line_distance(s, s1)\n",
    "    \n",
    "    def h(self, node): return straight_line_distance(node.state, self.goal)\n",
    "                  \n",
    "    def result(self, state, action): \n",
    "        \"Both states and actions are represented by (x, y) pairs.\"\n",
    "        result_grid_loc = self.to_grid(state)\n",
    "        return action if action not in self.gridmap else state\n",
    "    \n",
    "    def actions(self, state):\n",
    "        \"\"\"You can move one cell in any of `directions` to a non-obstacle cell.\"\"\"\n",
    "#         x, y = (int(state[0] / self.grid_size), int(state[1] / self.grid_size))\n",
    "        x, y = state\n",
    "        action_list = []\n",
    "        for (dx, dy) in self.directions:\n",
    "            p = (round(x + dx*self.grid_size, 2), round(y + dy*self.grid_size, 2))\n",
    "            if self.to_grid(p) not in self.gridmap:\n",
    "                action_list.append(p)\n",
    "        return action_list\n",
    "#         return [(x + dx, y + dy) for (dx, dy) in self.directions\n",
    "#                 if (x + dx, y + dy) not in self.gridmap]\n",
    "    \n",
    "    def is_goal(self, state):\n",
    "        return self.to_grid(state) == self.to_grid(self.goal)\n"
   ]
  },
  {
   "cell_type": "code",
   "execution_count": 138,
   "metadata": {},
   "outputs": [
    {
     "name": "stdout",
     "output_type": "stream",
     "text": [
      "real:(0.5, 2.7), grid:(5, 27)\n"
     ]
    }
   ],
   "source": [
    "gp1 = GridProblem(initial=(0.5, 2.7), obstacles=fixed_map())\n",
    "print ('real:{}, grid:{}'. format(gp1.initial, gp1.to_grid(gp1.initial)))"
   ]
  },
  {
   "cell_type": "markdown",
   "metadata": {},
   "source": [
    "## Function for creating obstacle"
   ]
  },
  {
   "cell_type": "code",
   "execution_count": 139,
   "metadata": {},
   "outputs": [],
   "source": [
    "# The following can be used to create obstacles:\n",
    "def straight_line_distance(point1, point2):\n",
    "    \"Straight-line distance between two 2D points.\"\n",
    "    return abs(complex(*point1) - complex(*point2))\n",
    "    \n",
    "\n",
    "def random_lines(X=range(15), Y=range(6), N=150, lengths=range(6, 12), dirs=((0, 1), (1, 0))):\n",
    "    \"\"\"Yield the cells in N random lines of the given lengths.\"\"\"\n",
    "    for _ in range(N):\n",
    "        x, y = random.choice(X), random.choice(Y)\n",
    "        dx, dy = random.choice(dirs)\n",
    "        for obj_line in line(x, y, dx, dy, random.choice(lengths)):\n",
    "            yield obj_line            \n",
    "            \n",
    "def line(x, y, dx, dy, length):\n",
    "    \"\"\"A line of `length` cells starting at (x, y) and going in (dx, dy) direction.\"\"\"\n",
    "    return {(x + i * dx, y + i * dy) for i in np.arange(0, length, 0.01)}\n",
    "\n",
    "def add_block(x, y, len_x, len_y):\n",
    "    for obj_line in line(x, y, 1, 0, len_x):\n",
    "        yield obj_line\n",
    "    for obj_line in line(x, y+len_y, 1, 0, len_x):\n",
    "        yield obj_line\n",
    "    for obj_line in line(x, y, 0, 1, len_y):\n",
    "        yield obj_line\n",
    "    for obj_line in line(x+len_x, y, 0, 1, len_y):\n",
    "        yield obj_line\n",
    "\n",
    "def fixed_map():\n",
    "    for obj_line in add_block(x=0, y=0, len_x=1.8, len_y=3.0):\n",
    "        yield obj_line\n",
    "\n",
    "    for obj_line in add_block(x=0.8, y=1.4, len_x=0.15, len_y=0.2):\n",
    "        yield obj_line"
   ]
  },
  {
   "cell_type": "code",
   "execution_count": 140,
   "metadata": {},
   "outputs": [
    {
     "data": {
      "image/png": "[encoded data removed]",
      "text/plain": [
       "<Figure size 576x576 with 2 Axes>"
      ]
     },
     "metadata": {
      "needs_background": "light"
     },
     "output_type": "display_data"
    }
   ],
   "source": [
    "gp1 = GridProblem(initial=(0.5, 0.5), obstacles=fixed_map())\n",
    "plt.figure(figsize=(8, 8))\n",
    "plt.subplot(121)\n",
    "obs_list = list(gp1.obstacles)\n",
    "for point in obs_list:\n",
    "    plt.scatter(point[0], point[1], marker='s', color='darkgrey')\n",
    "\n",
    "plt.subplot(122)       \n",
    "obs_list = list(gp1.gridmap)\n",
    "for point in obs_list:\n",
    "    plt.scatter(point[0], point[1], marker='s', color='darkgrey')\n",
    "plt.scatter(point[0], point[1], marker='s', color='darkgrey')\n",
    "plt.show()"
   ]
  },
  {
   "cell_type": "code",
   "execution_count": 141,
   "metadata": {},
   "outputs": [],
   "source": [
    "def plot_grid_problem(grid_problem, solution, reached=(), title='Search'):\n",
    "    \"Use matplotlib to plot the grid, obstacles, solution, and reached.\"\n",
    "    plt.figure(figsize=(15, 6))\n",
    "    plt.axis('off'); plt.axis('equal')\n",
    "    \n",
    "    # plot initial position and goal\n",
    "    start = grid_problem.to_grid(grid_problem.initial)\n",
    "    goal = grid_problem.to_grid(grid_problem.goal)\n",
    "    plt.scatter(start[0], start[1], 11**2, marker='D', c='green')\n",
    "    plt.scatter(goal[0], goal[1], 10**2, marker='D', c='red')\n",
    "    plt.legend(['current_loc', 'goal_loc'])\n",
    "    \n",
    "    # plot obstacle\n",
    "#     obs_list = list(grid_problem.obstacles)\n",
    "    obs_list = list(grid_problem.gridmap)\n",
    "    for point in obs_list:\n",
    "        plt.scatter(point[0], point[1], marker='s', color='darkgrey')\n",
    "    \n",
    "    \n",
    "    # plot reached path\n",
    "    reached_list = list(reached)\n",
    "    for point in reached_list:\n",
    "        grid_p = grid_problem.to_grid(point)\n",
    "        plt.scatter(grid_p[0], grid_p[1], 1**2, marker='.', c='blue')\n",
    "    \n",
    "    # plot solution path\n",
    "    traj_list = list(path_states(solution))\n",
    "    for point in traj_list:\n",
    "        grid_p = grid_problem.to_grid(point)\n",
    "        plt.scatter(grid_p[0], grid_p[1], marker='s', c='black')\n",
    "\n",
    "    plt.show()\n",
    "    print('{} {} search: {:.1f} path cost, {:,d} states reached'\n",
    "          .format(' ' * 10, title, solution.path_cost, len(reached)))\n",
    "    \n",
    "def transpose(matrix): return list(zip(*matrix))"
   ]
  },
  {
   "cell_type": "code",
   "execution_count": 142,
   "metadata": {},
   "outputs": [
    {
     "data": {
      "image/png": "[encoded data removed]",
      "text/plain": [
       "<Figure size 1080x432 with 1 Axes>"
      ]
     },
     "metadata": {
      "needs_background": "light"
     },
     "output_type": "display_data"
    },
    {
     "name": "stdout",
     "output_type": "stream",
     "text": [
      "           Search search: 3.3 path cost, 114 states reached\n"
     ]
    },
    {
     "data": {
      "image/png": "[encoded data removed]",
      "text/plain": [
       "<Figure size 1080x432 with 1 Axes>"
      ]
     },
     "metadata": {
      "needs_background": "light"
     },
     "output_type": "display_data"
    },
    {
     "name": "stdout",
     "output_type": "stream",
     "text": [
      "           Search search: 3.3 path cost, 114 states reached\n"
     ]
    },
    {
     "data": {
      "image/png": "[encoded data removed]",
      "text/plain": [
       "<Figure size 1080x432 with 1 Axes>"
      ]
     },
     "metadata": {
      "needs_background": "light"
     },
     "output_type": "display_data"
    },
    {
     "name": "stdout",
     "output_type": "stream",
     "text": [
      "           Search search: 3.3 path cost, 114 states reached\n"
     ]
    },
    {
     "data": {
      "image/png": "[encoded data removed]",
      "text/plain": [
       "<Figure size 1080x432 with 1 Axes>"
      ]
     },
     "metadata": {
      "needs_background": "light"
     },
     "output_type": "display_data"
    },
    {
     "name": "stdout",
     "output_type": "stream",
     "text": [
      "           Search search: 3.3 path cost, 114 states reached\n"
     ]
    },
    {
     "data": {
      "image/png": "[encoded data removed]",
      "text/plain": [
       "<Figure size 1080x432 with 1 Axes>"
      ]
     },
     "metadata": {
      "needs_background": "light"
     },
     "output_type": "display_data"
    },
    {
     "name": "stdout",
     "output_type": "stream",
     "text": [
      "           Search search: 3.3 path cost, 114 states reached\n"
     ]
    }
   ],
   "source": [
    "# Test algorithm\n",
    "gp1 = GridProblem(initial=(0.15, 0.2), obstacles=fixed_map())\n",
    "sol1 = breadth_first_search(gp1)\n",
    "sol2 = uniform_cost_search(gp1)\n",
    "sol3 = astar_search(gp1)\n",
    "sol4 = weighted_astar_search(gp1)\n",
    "sol5 = greedy_best_first_search(gp1)\n",
    "\n",
    "plot_grid_problem(gp1, sol1, reached)\n",
    "plot_grid_problem(gp1, sol2, reached)\n",
    "plot_grid_problem(gp1, sol3, reached)\n",
    "plot_grid_problem(gp1, sol4, reached)\n",
    "plot_grid_problem(gp1, sol5, reached)"
   ]
  },
  {
   "cell_type": "code",
   "execution_count": null,
   "metadata": {},
   "outputs": [],
   "source": []
  },
  {
   "cell_type": "markdown",
   "metadata": {},
   "source": [
    "<font color=\"red\">\n",
    "    \n",
    "# ROS start here\n",
    "</font>"
   ]
  },
  {
   "cell_type": "code",
   "execution_count": 9,
   "metadata": {},
   "outputs": [],
   "source": [
    "import os\n",
    "sys.path.insert(0, '/opt/ros/kinetic/lib/python2.7/dist-packages')\n",
    "sys.path.insert(0, 'catkin_ws/devel/lib/python2.7/dist-packages')\n",
    "\n",
    "os.environ[\"ROS_MASTER_URI\"] = \"http://192.168.50.19:11311\"\n",
    "os.system('source catkin/devel/setup.sh')\n",
    "\n",
    "import rospy\n",
    "import tf\n",
    "from nav_msgs.msg import Odometry, Path\n",
    "from geometry_msgs.msg import PoseStamped\n",
    "from duckietown_msgs.msg import Pose2DStamped\n",
    "\n",
    "# from eric point"
   ]
  },
  {
   "cell_type": "code",
   "execution_count": 10,
   "metadata": {},
   "outputs": [],
   "source": [
    "rospy.init_node(\"path_planning_node\", anonymous = False)\n",
    "path_pub = rospy.Publisher('/planning_path', Path, queue_size=10)"
   ]
  },
  {
   "cell_type": "code",
   "execution_count": 11,
   "metadata": {
    "scrolled": true
   },
   "outputs": [
    {
     "name": "stdout",
     "output_type": "stream",
     "text": [
      "(13, 2)\n",
      "(13, 27)\n"
     ]
    }
   ],
   "source": [
    "loc_msg = rospy.wait_for_message(\"/nctuece/absolute_from_relative_position/bot_global_poses_for_car\", \\\n",
    "                                     topic_type=Pose2DStamped,\n",
    "                                     timeout=5)\n",
    "initial_point = (int(loc_msg.x*10), int(loc_msg.y*10))\n",
    "print(initial_point)\n",
    "goal_point = (initial_point[0], initial_point[1] + 25)\n",
    "print(goal_point)"
   ]
  },
  {
   "cell_type": "code",
   "execution_count": 12,
   "metadata": {
    "scrolled": true
   },
   "outputs": [
    {
     "data": {
      "image/png": "[encoded data removed]",
      "text/plain": [
       "<Figure size 1080x432 with 1 Axes>"
      ]
     },
     "metadata": {
      "needs_background": "light"
     },
     "output_type": "display_data"
    },
    {
     "name": "stdout",
     "output_type": "stream",
     "text": [
      "           Search search: 24.0 path cost, 78 states reached\n"
     ]
    }
   ],
   "source": [
    "gridproblem1 = GridProblem(initial=initial_point, goal=goal_point, obstacles=random_lines(N=0))\n",
    "solution = astar_search(gridproblem1)\n",
    "plot_grid_problem(gridproblem1, solution, reached)"
   ]
  },
  {
   "cell_type": "code",
   "execution_count": 13,
   "metadata": {},
   "outputs": [
    {
     "name": "stdout",
     "output_type": "stream",
     "text": [
      "[(1.3, 0.2), (1.3, 0.3), (1.3, 0.4), (1.3, 0.5), (1.3, 0.6), (1.3, 0.7), (1.3, 0.8), (1.3, 0.9), (1.3, 1.0), (1.3, 1.1), (1.3, 1.2), (1.3, 1.3), (1.3, 1.4), (1.3, 1.5), (1.3, 1.6), (1.3, 1.7), (1.3, 1.8), (1.3, 1.9), (1.3, 2.0), (1.3, 2.1), (1.3, 2.2), (1.3, 2.3), (1.3, 2.4), (1.3, 2.5), (1.3, 2.6)]\n"
     ]
    }
   ],
   "source": [
    "path = Path()\n",
    "path.header.frame_id = 'map'\n",
    "path.header.stamp = rospy.Time.now()\n",
    "\n",
    "traj_list = [(p[0] / 10.0, p[1] / 10.0) for p in list(path_states(solution))]\n",
    "print traj_list\n",
    "for i in range(len(traj_list)-1) :\n",
    "    p = PoseStamped()\n",
    "    p.header.frame_id = 'map'\n",
    "    p.header.stamp = rospy.Time.now()\n",
    "    p.pose.position.x = traj_list[i][0]\n",
    "    p.pose.position.y = traj_list[i][1]\n",
    "    \n",
    "    head_angle = math.atan2(traj_list[i+1][1] - traj_list[i][1],\n",
    "                            traj_list[i+1][0] - traj_list[i][0])\n",
    "#     print(p.pose.position.x, p.pose.position.y, head_angle*180.0/math.pi)\n",
    "    \n",
    "    (p.pose.orientation.x, p.pose.orientation.y, p.pose.orientation.z, p.pose.orientation.w) = tf.transformations.quaternion_from_euler(0, 0, math.pi)\n",
    "    path.poses = path.poses + [p]\n",
    "\n"
   ]
  },
  {
   "cell_type": "code",
   "execution_count": 14,
   "metadata": {},
   "outputs": [],
   "source": [
    "for i in range(10):\n",
    "    path_pub.publish(path)"
   ]
  }
 ],
 "metadata": {
  "kernelspec": {
   "display_name": "Python 2",
   "language": "python",
   "name": "python2"
  },
  "language_info": {
   "codemirror_mode": {
    "name": "ipython",
    "version": 2
   },
   "file_extension": ".py",
   "mimetype": "text/x-python",
   "name": "python",
   "nbconvert_exporter": "python",
   "pygments_lexer": "ipython2",
   "version": "2.7.12"
  }
 },
 "nbformat": 4,
 "nbformat_minor": 2
}
