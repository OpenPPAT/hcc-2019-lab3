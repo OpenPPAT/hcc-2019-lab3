{
 "cells": [
  {
   "cell_type": "markdown",
   "metadata": {},
   "source": [
    "# Topic1. A* path planning\n",
    "\n",
    "If you got the point for problem definition in AIMA textbook, please execute and run the block until section 1-4\n",
    "\n",
    "## 1-1. Import python package"
   ]
  },
  {
   "cell_type": "code",
   "execution_count": 1,
   "metadata": {},
   "outputs": [],
   "source": [
    "%matplotlib inline\n",
    "import matplotlib.pyplot as plt\n",
    "import random\n",
    "import heapq\n",
    "import math\n",
    "import sys\n",
    "from collections import defaultdict, deque, Counter\n",
    "from itertools import combinations"
   ]
  },
  {
   "cell_type": "markdown",
   "metadata": {},
   "source": [
    "## 1-2. Problem abstract & State-space tree node & queue"
   ]
  },
  {
   "cell_type": "code",
   "execution_count": 2,
   "metadata": {},
   "outputs": [],
   "source": [
    "class Problem(object):\n",
    "    \"\"\"The abstract class for a formal problem. A new domain subclasses this,\n",
    "    overriding `actions` and `results`, and perhaps other methods.\n",
    "    Subclasses can add other keywords besides initial and goal.\n",
    "    The default heuristic is 0 and the default step cost is 1 for all states.\"\"\"\n",
    "\n",
    "    def __init__(self, initial=None, goal=None, **kwds): \n",
    "        self.__dict__.update(initial=initial, goal=goal, **kwds) \n",
    "    \n",
    "    \n",
    "    def actions(self, state):           raise NotImplementedError\n",
    "    def result(self, state, action):    raise NotImplementedError\n",
    "    def is_goal(self, state):           return state == self.goal\n",
    "    def step_cost(self, s, action, s1): return 1\n",
    "    def h(self, node):                  return 0\n",
    "    \n",
    "    def __str__(self):\n",
    "        return '{}({}, {})'.format(type(self).__name__, self.initial, self.goal)\n",
    "    \n",
    "\n",
    "class Node:\n",
    "    \"A Node in a search tree.\"\n",
    "    def __init__(self, state, parent=None, action=None, path_cost=0):\n",
    "        self.__dict__.update(state=state, parent=parent, action=action, path_cost=path_cost)\n",
    "\n",
    "    def __repr__(self): return '<{}>'.format(self.state)\n",
    "    def __len__(self): return 0 if self.parent is None else (1 + len(self.parent))\n",
    "    def __lt__(self, other): return self.path_cost < other.path_cost\n",
    "    \n",
    "    \n",
    "failure = Node('failure', path_cost=float('inf')) # Indicates an algorithm couldn't find a solution.\n",
    "cutoff  = Node('cutoff',  path_cost=float('inf')) # Indicates iterative deepening search was cut off.\n",
    "    \n",
    "    \n",
    "def expand(problem, node):\n",
    "    \"Expand a node, generating the children nodes.\"\n",
    "    s = node.state\n",
    "    for action in problem.actions(s):\n",
    "        s1 = problem.result(s, action)\n",
    "        cost = node.path_cost + problem.step_cost(s, action, s1)\n",
    "        yield Node(s1, node, action, cost)\n",
    "        \n",
    "\n",
    "def path_actions(node):\n",
    "    \"The sequence of actions to get to this node.\"\n",
    "    return [] if node.parent is None else path_actions(node.parent) + [node.action]\n",
    "\n",
    "\n",
    "def path_states(node):\n",
    "    \"The sequence of states to get to this node.\"\n",
    "    if node in (cutoff, failure, None): return []\n",
    "    return path_states(node.parent) + [node.state]"
   ]
  },
  {
   "cell_type": "code",
   "execution_count": 3,
   "metadata": {},
   "outputs": [],
   "source": [
    "FIFOQueue = deque\n",
    "\n",
    "LIFOQueue = list\n",
    "\n",
    "class PriorityQueue:\n",
    "    \"\"\"A queue in which the item with minimum f(item) is always popped first.\"\"\"\n",
    "\n",
    "    def __init__(self, items=(), key=lambda x: x): \n",
    "        self.key = key\n",
    "        self.items = [] # a heap of (score, item) pairs\n",
    "        for item in items:\n",
    "            self.add(item)\n",
    "         \n",
    "    def add(self, item):\n",
    "        \"\"\"Add item to the queuez.\"\"\"\n",
    "        pair = (self.key(item), item)\n",
    "        heapq.heappush(self.items, pair)\n",
    "\n",
    "    def pop(self):\n",
    "        \"\"\"Pop and return the item with min f(item) value.\"\"\"\n",
    "        return heapq.heappop(self.items)[1]\n",
    "    \n",
    "    def top(self): return self.items[0][1]\n",
    "\n",
    "    def __len__(self): return len(self.items)"
   ]
  },
  {
   "cell_type": "markdown",
   "metadata": {},
   "source": [
    "## 1-3. Search methods"
   ]
  },
  {
   "cell_type": "code",
   "execution_count": 4,
   "metadata": {},
   "outputs": [],
   "source": [
    "def best_first_search(problem, f):\n",
    "    \"Search nodes with minimum f(node) value first.\"\n",
    "    frontier = PriorityQueue([Node(problem.initial)], key=f)\n",
    "    reached = {}\n",
    "    while frontier:\n",
    "        node = frontier.pop()\n",
    "        if problem.is_goal(node.state):\n",
    "            return node\n",
    "        for child in expand(problem, node):\n",
    "            s = child.state\n",
    "            if s not in reached or child.path_cost < reached[s].path_cost:\n",
    "                reached[s] = child\n",
    "                frontier.add(child)\n",
    "    return failure\n",
    "\n",
    "\n",
    "def uniform_cost_search(problem):\n",
    "    \"Search nodes with minimum  path cost first.\"\n",
    "    return best_first_search(problem, f=lambda node: node.path_cost)\n",
    "\n",
    "\n",
    "def astar_search(problem, h=None):\n",
    "    \"\"\"Search nodes with minimum f(n) = g(n) + h(n).\"\"\"\n",
    "    h = h or problem.h\n",
    "    return best_first_search(problem, f=lambda node: node.path_cost + h(node))\n",
    "\n",
    "\n",
    "def weighted_astar_search(problem, weight=1.4, h=None):\n",
    "    \"\"\"Search nodes with minimum f(n) = g(n) + h(n).\"\"\"\n",
    "    h = h or problem.h\n",
    "    return best_first_search(problem, f=lambda node: node.path_cost + weight * h(node))"
   ]
  },
  {
   "cell_type": "markdown",
   "metadata": {},
   "source": [
    "## 1-4. Grid Problem"
   ]
  },
  {
   "cell_type": "code",
   "execution_count": 5,
   "metadata": {},
   "outputs": [],
   "source": [
    "class GridProblem(Problem):\n",
    "    \"\"\"Finding a path on a 2D grid with obstacles. Obstacles are (x, y) cells.\"\"\"\n",
    "    \n",
    "    def __init__(self, initial=(10, 30), goal=(130, 30), obstacles=(), **kwds):\n",
    "        Problem.__init__(self, initial=initial, goal=goal, \n",
    "                         obstacles=set(obstacles) - {initial, goal}, **kwds)\n",
    "        \n",
    "        self.step_size = 2\n",
    "#         unit_vector = [(-1, -1), (0, -1), (1, -1),\n",
    "#                         (-1, 0),           (1,  0),\n",
    "#                         (-1, +1), (0, +1), (1, +1)]\n",
    "#         self.directions = [(step[0] * self.step_size, step[1] * self.step_size) for step in unit_vector]\n",
    "        self.directions = [(-1, -1), (0, -1), (1, -1),\n",
    "                        (-1, 0),           (1,  0),\n",
    "                        (-1, +1), (0, +1), (1, +1)]\n",
    "\n",
    "        \n",
    "    \n",
    "    def step_cost(self, s, action, s1): return straight_line_distance(s, s1)\n",
    "    \n",
    "    def h(self, node): return straight_line_distance(node.state, self.goal)\n",
    "                  \n",
    "    def result(self, state, action): \n",
    "        \"Both states and actions are represented by (x, y) pairs.\"\n",
    "        return action if action not in self.obstacles else state\n",
    "    \n",
    "    def actions(self, state):\n",
    "        \"\"\"You can move one cell in any of `directions` to a non-obstacle cell.\"\"\"\n",
    "        x, y = state\n",
    "#         action_list = []\n",
    "#         for (step_x, step_y) in self.directions:\n",
    "#             (dx, dy) = (step_x/self.step_size, step_y/self.step_size)\n",
    "#             cnt = 0\n",
    "#             while(cnt < self.step_size):\n",
    "#                 if (x + dx*cnt, y + dy*cnt) in self.obstacles:\n",
    "#                     break\n",
    "#                 else: \n",
    "#                     action_list.append((x + step_x, y + step_y))\n",
    "#                     break\n",
    "#                 cnt = cnt + 1\n",
    "                \n",
    "#         return action_list\n",
    "        return [(x + dx, y + dy) for (dx, dy) in self.directions\n",
    "                if (x + dx, y + dy) not in self.obstacles]\n",
    "    \n",
    "    def is_goal(self, state):\n",
    "        cur_loc = state\n",
    "        goal_loc = self.goal             \n",
    "        return straight_line_distance(cur_loc, goal_loc) < self.step_size\n"
   ]
  },
  {
   "cell_type": "markdown",
   "metadata": {},
   "source": [
    "## Function for creating obstacle"
   ]
  },
  {
   "cell_type": "code",
   "execution_count": 6,
   "metadata": {},
   "outputs": [],
   "source": [
    "# The following can be used to create obstacles:\n",
    "def straight_line_distance(point1, point2):\n",
    "    \"Straight-line distance between two 2D points.\"\n",
    "    return abs(complex(*point1) - complex(*point2))\n",
    "    \n",
    "\n",
    "def random_lines(X=range(150), Y=range(60), N=150, lengths=range(6, 12), dirs=((0, 1), (1, 0))):\n",
    "    \"\"\"Yield the cells in N random lines of the given lengths.\"\"\"\n",
    "    for _ in range(N):\n",
    "        x, y = random.choice(X), random.choice(Y)\n",
    "        dx, dy = random.choice(dirs)\n",
    "        for obj_line in line(x, y, dx, dy, random.choice(lengths)):\n",
    "            yield obj_line            \n",
    "            \n",
    "def line(x, y, dx, dy, length):\n",
    "    \"\"\"A line of `length` cells starting at (x, y) and going in (dx, dy) direction.\"\"\"\n",
    "    return {(x + i * dx, y + i * dy) for i in range(length)}\n",
    "\n",
    "def random_blocks(X=range(150), Y=range(60), N=10, lengths=range(6, 12), dirs=((0, 1), (1, 0))):\n",
    "    \"\"\"A line of `length` cells starting at (x, y) and going in (dx, dy) direction.\"\"\"\n",
    "    for _ in range(N):\n",
    "        x1, y1 = random.choice(X), random.choice(Y)\n",
    "        dx, dy = random.choice(lengths), random.choice(lengths)\n",
    "        \n",
    "        for obj_line in line(x1, y1, 1, 0, dx+1):\n",
    "            yield obj_line\n",
    "        for obj_line in line(x1, y1+dy, 1, 0, dx+1):\n",
    "            yield obj_line\n",
    "        for obj_line in line(x1, y1, 0, 1, dy):\n",
    "            yield obj_line\n",
    "        for obj_line in line(x1+dx, y1, 0, 1, dy):\n",
    "            yield obj_line"
   ]
  },
  {
   "cell_type": "markdown",
   "metadata": {},
   "source": [
    "## Search algorithms declaration"
   ]
  },
  {
   "cell_type": "code",
   "execution_count": 7,
   "metadata": {},
   "outputs": [],
   "source": [
    "def best_first_search(problem, f):\n",
    "    \"Search nodes with minimum f(node) value first; make `reached` global.\"\n",
    "    global reached # <<<<<<<<<<< Only change here\n",
    "    frontier = PriorityQueue([Node(problem.initial)], key=f)\n",
    "    reached = {}\n",
    "    while len(frontier) != 0:\n",
    "        node = frontier.pop()\n",
    "        if problem.is_goal(node.state):\n",
    "            return node\n",
    "        for child in expand(problem, node):\n",
    "            s = child.state\n",
    "            if (s not in reached) or (child.path_cost < reached[s].path_cost):\n",
    "                reached[s] = child\n",
    "                frontier.add(child)\n",
    "    return failure\n",
    "\n",
    "def plot_grid_problem(grid_problem, solution, reached=(), title='Search'):\n",
    "    \"Use matplotlib to plot the grid, obstacles, solution, and reached.\"\n",
    "    plt.figure(figsize=(15, 6))\n",
    "    plt.axis('off'); plt.axis('equal')\n",
    "    \n",
    "    # plot obstacle\n",
    "    obs_list = list(grid_problem.obstacles)\n",
    "    for point in obs_list:\n",
    "        plt.scatter(point[0], point[1], marker='s', color='darkgrey')\n",
    "    \n",
    "    # plot initial position and goal\n",
    "    plt.scatter(grid_problem.initial[0], grid_problem.initial[1], 11**2, marker='D', c='green')\n",
    "    plt.text(grid_problem.initial[0]+2, grid_problem.initial[1]+2, 'current_loc')\n",
    "    plt.scatter(grid_problem.goal[0], grid_problem.goal[1], 10**2, marker='D', c='red')\n",
    "    plt.text(grid_problem.goal[0]+2, grid_problem.goal[1]+2, 'goal_loc')\n",
    "    \n",
    "    # plot reached path\n",
    "    reached_list = list(reached)\n",
    "    for point in reached_list:\n",
    "        plt.scatter(point[0], point[1], 1**2, marker='.', c='blue')\n",
    "    \n",
    "    # plot solution path\n",
    "    traj_list = list(path_states(solution))\n",
    "    for point in traj_list:\n",
    "        plt.scatter(point[0], point[1], marker='s', c='black')\n",
    "\n",
    "    plt.show()\n",
    "    print('{} {} search: {:.1f} path cost, {:,d} states reached'\n",
    "          .format(' ' * 10, title, solution.path_cost, len(reached)))\n",
    "    \n",
    "def transpose(matrix): return list(zip(*matrix))"
   ]
  },
  {
   "cell_type": "code",
   "execution_count": 8,
   "metadata": {},
   "outputs": [
    {
     "data": {
      "image/png": "[encoded data removed]",
      "text/plain": [
       "<Figure size 1080x432 with 1 Axes>"
      ]
     },
     "metadata": {
      "needs_background": "light"
     },
     "output_type": "display_data"
    },
    {
     "name": "stdout",
     "output_type": "stream",
     "text": [
      "           Search search: 147.9 path cost, 2,178 states reached\n"
     ]
    }
   ],
   "source": [
    "# Test algorithm\n",
    "d1 = GridProblem(initial=(10,30), obstacles=random_blocks(N=50))\n",
    "plot_grid_problem(d1, astar_search(d1), reached)"
   ]
  },
  {
   "cell_type": "markdown",
   "metadata": {},
   "source": [
    "<font color=\"red\">\n",
    "    \n",
    "# ROS start here !!\n",
    "</font>"
   ]
  },
  {
   "cell_type": "code",
   "execution_count": 9,
   "metadata": {},
   "outputs": [],
   "source": [
    "import rospy\n",
    "import tf\n",
    "from nav_msgs.msg import Odometry, Path\n",
    "from geometry_msgs.msg import PoseStamped\n",
    "# from eric point"
   ]
  },
  {
   "cell_type": "code",
   "execution_count": 10,
   "metadata": {},
   "outputs": [
    {
     "name": "stdout",
     "output_type": "stream",
     "text": [
      "http:127.0.0.1:11311\n"
     ]
    }
   ],
   "source": [
    "%%bash\n",
    "source /opt/ros/kinetic/setup.sh\n",
    "# export ROS_MASTER_URI=http:192.168.0.1:11311\n",
    "export ROS_MASTER_URI=http:127.0.0.1:11311\n",
    "echo $ROS_MASTER_URI"
   ]
  },
  {
   "cell_type": "code",
   "execution_count": 11,
   "metadata": {},
   "outputs": [
    {
     "name": "stdout",
     "output_type": "stream",
     "text": [
      "Unable to register with master node [http://localhost:11311]: master may not be running yet. Will keep trying.\n"
     ]
    }
   ],
   "source": [
    "rospy.init_node(\"Path_planning_node\", anonymous = False)\n",
    "path_pub = rospy.Publisher('/path', Path, queue_size=10)"
   ]
  },
  {
   "cell_type": "code",
   "execution_count": 12,
   "metadata": {},
   "outputs": [
    {
     "name": "stdout",
     "output_type": "stream",
     "text": [
      "Can't get location messege in time!\n"
     ]
    }
   ],
   "source": [
    "try:\n",
    "    loc_msg = rospy.wait_for_message(\"/odom\",\n",
    "                                     topic_type=Odometry,\n",
    "                                     timeout=5)\n",
    "except:\n",
    "    print(\"Can't get location messege in time!\")"
   ]
  },
  {
   "cell_type": "code",
   "execution_count": 13,
   "metadata": {},
   "outputs": [],
   "source": [
    "initial_point = (20, 20)"
   ]
  },
  {
   "cell_type": "code",
   "execution_count": 14,
   "metadata": {},
   "outputs": [
    {
     "data": {
      "image/png": "[encoded data removed]",
      "text/plain": [
       "<Figure size 1080x432 with 1 Axes>"
      ]
     },
     "metadata": {
      "needs_background": "light"
     },
     "output_type": "display_data"
    },
    {
     "name": "stdout",
     "output_type": "stream",
     "text": [
      "           Search search: 116.9 path cost, 1,483 states reached\n"
     ]
    }
   ],
   "source": [
    "gridproblem1 = GridProblem(initial=initial_point, obstacles=random_blocks(N=50))\n",
    "solution = astar_search(gridproblem1)\n",
    "plot_grid_problem(gridproblem1, solution, reached)"
   ]
  },
  {
   "cell_type": "code",
   "execution_count": 18,
   "metadata": {},
   "outputs": [
    {
     "name": "stdout",
     "output_type": "stream",
     "text": [
      "(20, 20, 0.0)\n",
      "(21, 20, 0.0)\n",
      "(22, 20, 0.0)\n",
      "(23, 20, 0.0)\n",
      "(24, 20, 0.0)\n",
      "(25, 20, 0.0)\n",
      "(26, 20, 0.0)\n",
      "(27, 20, 0.0)\n",
      "(28, 20, 0.0)\n",
      "(29, 20, 0.0)\n",
      "(30, 20, 0.0)\n",
      "(31, 20, 0.0)\n",
      "(32, 20, 0.0)\n",
      "(33, 20, 0.0)\n",
      "(34, 20, 0.0)\n",
      "(35, 20, 0.0)\n",
      "(36, 20, -45.0)\n",
      "(37, 19, -45.0)\n",
      "(38, 18, -45.0)\n",
      "(39, 17, 0.0)\n",
      "(40, 17, 0.0)\n",
      "(41, 17, 0.0)\n",
      "(42, 17, 0.0)\n",
      "(43, 17, 0.0)\n",
      "(44, 17, 0.0)\n",
      "(45, 17, 0.0)\n",
      "(46, 17, 0.0)\n",
      "(47, 17, 0.0)\n",
      "(48, 17, 0.0)\n",
      "(49, 17, 0.0)\n",
      "(50, 17, 0.0)\n",
      "(51, 17, 0.0)\n",
      "(52, 17, 45.0)\n",
      "(53, 18, 45.0)\n",
      "(54, 19, 45.0)\n",
      "(55, 20, 45.0)\n",
      "(56, 21, 45.0)\n",
      "(57, 22, 45.0)\n",
      "(58, 23, 45.0)\n",
      "(59, 24, 0.0)\n",
      "(60, 24, 45.0)\n",
      "(61, 25, 45.0)\n",
      "(62, 26, 0.0)\n",
      "(63, 26, 0.0)\n",
      "(64, 26, 0.0)\n",
      "(65, 26, 0.0)\n",
      "(66, 26, 0.0)\n",
      "(67, 26, 0.0)\n",
      "(68, 26, 0.0)\n",
      "(69, 26, 0.0)\n",
      "(70, 26, 0.0)\n",
      "(71, 26, 0.0)\n",
      "(72, 26, 0.0)\n",
      "(73, 26, 0.0)\n",
      "(74, 26, 0.0)\n",
      "(75, 26, 0.0)\n",
      "(76, 26, 0.0)\n",
      "(77, 26, 0.0)\n",
      "(78, 26, 0.0)\n",
      "(79, 26, 0.0)\n",
      "(80, 26, 0.0)\n",
      "(81, 26, 0.0)\n",
      "(82, 26, 0.0)\n",
      "(83, 26, 0.0)\n",
      "(84, 26, 0.0)\n",
      "(85, 26, 0.0)\n",
      "(86, 26, 0.0)\n",
      "(87, 26, 0.0)\n",
      "(88, 26, 0.0)\n",
      "(89, 26, 0.0)\n",
      "(90, 26, 0.0)\n",
      "(91, 26, 0.0)\n",
      "(92, 26, 0.0)\n",
      "(93, 26, 0.0)\n",
      "(94, 26, 0.0)\n",
      "(95, 26, 0.0)\n",
      "(96, 26, 0.0)\n",
      "(97, 26, 0.0)\n",
      "(98, 26, 0.0)\n",
      "(99, 26, 0.0)\n",
      "(100, 26, 0.0)\n",
      "(101, 26, 0.0)\n",
      "(102, 26, 0.0)\n",
      "(103, 26, 0.0)\n",
      "(104, 26, 0.0)\n",
      "(105, 26, 0.0)\n",
      "(106, 26, 0.0)\n",
      "(107, 26, 0.0)\n",
      "(108, 26, 0.0)\n",
      "(109, 26, 0.0)\n",
      "(110, 26, 0.0)\n",
      "(111, 26, 45.0)\n",
      "(112, 27, 45.0)\n",
      "(113, 28, 45.0)\n",
      "(114, 29, 45.0)\n",
      "(115, 30, 45.0)\n",
      "(116, 31, 45.0)\n",
      "(117, 32, 0.0)\n",
      "(118, 32, 0.0)\n",
      "(119, 32, 0.0)\n",
      "(120, 32, 0.0)\n",
      "(121, 32, 0.0)\n",
      "(122, 32, 0.0)\n",
      "(123, 32, 0.0)\n",
      "(124, 32, 0.0)\n",
      "(125, 32, 0.0)\n",
      "(126, 32, -45.0)\n",
      "(127, 31, 0.0)\n",
      "(128, 31, 0.0)\n"
     ]
    }
   ],
   "source": [
    "path = Path()\n",
    "path.header.frame_id = 'odom'\n",
    "path.header.stamp = rospy.Time.now()\n",
    "\n",
    "traj_list = list(path_states(solution))\n",
    "for i in range(len(traj_list)-1) :\n",
    "    p = PoseStamped()\n",
    "    p.header.frame_id = 'odom'\n",
    "    p.header.stamp = rospy.Time.now()\n",
    "    p.pose.position.x = traj_list[i][0]\n",
    "    p.pose.position.y = traj_list[i][1]\n",
    "    \n",
    "    head_angle = math.atan2(traj_list[i+1][1] - traj_list[i][1],\n",
    "                            traj_list[i+1][0] - traj_list[i][0])\n",
    "    print(p.pose.position.x, p.pose.position.y, head_angle*180.0/math.pi)\n",
    "    \n",
    "    (p.pose.orientation.x, p.pose.orientation.y, p.pose.orientation.z, p.pose.orientation.w) = tf.transformations.quaternion_from_euler(0, 0, math.pi)\n",
    "    path.poses = [p] + path.poses\n",
    "        \n",
    "path_pub.publish(path)\n"
   ]
  },
  {
   "cell_type": "code",
   "execution_count": null,
   "metadata": {},
   "outputs": [],
   "source": []
  }
 ],
 "metadata": {
  "kernelspec": {
   "display_name": "Python 2",
   "language": "python",
   "name": "python2"
  },
  "language_info": {
   "codemirror_mode": {
    "name": "ipython",
    "version": 2
   },
   "file_extension": ".py",
   "mimetype": "text/x-python",
   "name": "python",
   "nbconvert_exporter": "python",
   "pygments_lexer": "ipython2",
   "version": "2.7.12"
  }
 },
 "nbformat": 4,
 "nbformat_minor": 2
}
